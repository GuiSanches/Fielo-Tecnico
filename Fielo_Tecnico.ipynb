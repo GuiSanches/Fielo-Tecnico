{
  "nbformat": 4,
  "nbformat_minor": 0,
  "metadata": {
    "colab": {
      "name": "Fielo_Tecnico.ipynb",
      "provenance": [],
      "collapsed_sections": [],
      "toc_visible": true
    },
    "kernelspec": {
      "display_name": "Python 3",
      "language": "python",
      "name": "python3"
    },
    "language_info": {
      "codemirror_mode": {
        "name": "ipython",
        "version": 3
      },
      "file_extension": ".py",
      "mimetype": "text/x-python",
      "name": "python",
      "nbconvert_exporter": "python",
      "pygments_lexer": "ipython3",
      "version": "3.6.6"
    }
  },
  "cells": [
    {
      "cell_type": "markdown",
      "metadata": {
        "id": "5uYRFMkLgXUd"
      },
      "source": [
        "# Fielo's technical test\n",
        "\n",
        "### Challenge specification\n",
        "\n",
        "Given a Jungle in the middle of an island of n*m dimensions. Each field in this jungle contains a\n",
        "positive integer which is the amount of bananas that exist in that field. Initially the monkey is at first\n",
        "column but can be at any row. The monkey can move only (right->,right up /,right down\\) from a given\n",
        "cell. Find out the maximum amount of bananas they can collect.\n",
        "\n",
        "Input/Output Examples:<br/>\n",
        "Input : mat[][] = {{1, 3, 3},<br />\n",
        "{2, 1, 4},<br />\n",
        "{0, 6, 4}};<br />\n",
        "\n",
        "Output : 12<br />\n",
        "{(1,0)->(2,1)->(2,2)}\n",
        "\n",
        "\n",
        "Input: mat[][] = { {1, 3, 1, 5},<br />\n",
        "{2, 2, 4, 1},<br />\n",
        "{5, 0, 2, 3},<br />\n",
        "{0, 6, 1, 2}};<br />\n",
        "\n",
        "Output: 16<br />\n",
        "(2,0) -> (1,1) -> (1,2) -> (0,3) OR<br />\n",
        "(2,0) -> (3,1) -> (2,2) -> (2,3)\n",
        "\n",
        "\n",
        "Input: mat[][] = {{10, 33, 13, 15},<br />\n",
        "{22, 21, 04, 1},<br />\n",
        "{5, 0, 2, 3},<br />\n",
        "{0, 6, 14, 2}};<br />\n",
        "\n",
        "Output: 83\n",
        "\n",
        "**Requirements**\n",
        "1. Please state time and space (memory) complexity in Big O notation. (m,n) may be\n",
        "used to represent. If you need a basic primer on this, it’s here:\n",
        "Also, please state your thought process in writing (and any sketches you used) to arrive at your\n",
        "solution.\n",
        "2. Thought process (excel sheet, sketches, etc.)\n",
        "3. Working solution & test code"
      ]
    },
    {
      "cell_type": "markdown",
      "metadata": {
        "id": "R5kEm958glzI"
      },
      "source": [
        "### 1.1 Importação bibliotecas"
      ]
    },
    {
      "cell_type": "code",
      "metadata": {
        "id": "CvWMNhztgox4"
      },
      "source": [
        "import numpy as np\n",
        "import pandas as pd\n",
        "import matplotlib.pyplot as plt\n",
        "from matplotlib import colors\n",
        "from matplotlib.animation import FuncAnimation\n",
        "import time\n",
        "import random\n",
        "from typing import List\n",
        "from collections import deque"
      ],
      "execution_count": 2,
      "outputs": []
    },
    {
      "cell_type": "markdown",
      "metadata": {
        "id": "TWCQfi1EqH30"
      },
      "source": [
        "#### Cases"
      ]
    },
    {
      "cell_type": "code",
      "metadata": {
        "id": "yPJAQNpSgwxC"
      },
      "source": [
        "lab_arr = {}\n",
        "row_len = {}\n",
        "col_len = {}\n",
        "examples_size = 3\n",
        "\n",
        "forests = [np.array([\n",
        "            [1, 3, 3],\n",
        "            [2, 1, 4],\n",
        "            [0, 6, 4]]),\n",
        "            np.array([\n",
        "            [1, 3, 1, 5],\n",
        "            [2, 2, 4, 1],\n",
        "            [5, 0, 2, 3],\n",
        "            [0, 6, 1, 2]]),\n",
        "           np.array([\n",
        "            [10, 33, 13, 15],\n",
        "            [22, 21, 4, 1],\n",
        "            [5, 0, 2, 3],\n",
        "            [0, 6, 14, 2]])\n",
        "          ]"
      ],
      "execution_count": 3,
      "outputs": []
    },
    {
      "cell_type": "markdown",
      "metadata": {
        "id": "6kp-R_fzvVq_"
      },
      "source": [
        "# 2 Bouncy Monkey Hungry"
      ]
    },
    {
      "cell_type": "markdown",
      "metadata": {
        "id": "XykMZFJyo_bh"
      },
      "source": [
        "A bredth first search approach for eating yummy bananas"
      ]
    },
    {
      "cell_type": "markdown",
      "source": [
        "This funny func helps monkey jump"
      ],
      "metadata": {
        "id": "1YAiBCK77bem"
      }
    },
    {
      "cell_type": "code",
      "source": [
        "def edges_sum():\n",
        "  return np.array([(a, 1) for a in range(-1, 2)])"
      ],
      "metadata": {
        "id": "iQIRDV7Q7bBE"
      },
      "execution_count": null,
      "outputs": []
    },
    {
      "cell_type": "markdown",
      "source": [
        "This naughty func helps gets monkey odds"
      ],
      "metadata": {
        "id": "mYJ_lMoi7rww"
      }
    },
    {
      "cell_type": "code",
      "source": [
        "def get_neighbors(Matrix, pos):\n",
        "  return [(n[0], n[1]) for n in edges_sum() + pos if n[0] >= 0 and n[0] < Matrix.shape[0] and\n",
        "                                      n[1] > 0 and n[1] < Matrix.shape[1]]"
      ],
      "metadata": {
        "id": "4gBoLoU578rY"
      },
      "execution_count": null,
      "outputs": []
    },
    {
      "cell_type": "markdown",
      "source": [
        "This memorable func remembers monkey where not to jump"
      ],
      "metadata": {
        "id": "v-VkOwyA8Ewt"
      }
    },
    {
      "cell_type": "code",
      "source": [
        "def isNotVisited(x, path):\n",
        "\n",
        "\tsize = len(path)\n",
        "\tfor i in range(size):\n",
        "\t\tif (path[i][0] == x[0] and path[i][1] == x[1]):\n",
        "\t\t\treturn 0\n",
        "\t\t\t\n",
        "\treturn 1"
      ],
      "metadata": {
        "id": "E9WH9_6n8FE1"
      },
      "execution_count": null,
      "outputs": []
    },
    {
      "cell_type": "markdown",
      "source": [
        "### Behold Bouncy Monkey Hungry"
      ],
      "metadata": {
        "id": "pld8n8tN8VGN"
      }
    },
    {
      "cell_type": "code",
      "source": [
        "# Utility function for finding paths in graph\n",
        "# from source to destination\n",
        "def findpaths(g, src, dst):\n",
        "\t\t\t\t\n",
        "  # Create a queue which stores\n",
        "  # the paths\n",
        "  q = deque()\n",
        "\n",
        "  # Path vector to store the current path\n",
        "  path = []\n",
        "  all_path = []\n",
        "  path.append(src)\n",
        "  q.append(path.copy())\n",
        "  best_path = {'path': [], 'bananas': 0}\n",
        "\t\n",
        "  while q:\n",
        "    path = q.popleft()\n",
        "    last = path[-1] \n",
        "\n",
        "    if(last[0] == dst[0] and last[1] == dst[1]):\n",
        "      all_path.append([z for z in path])\n",
        "    \n",
        "    for n in get_neighbors(g, last):\n",
        "      newpath = path.copy()\n",
        "      newpath.append(n)\n",
        "      q.append(newpath)\n",
        "  \n",
        "  for p in all_path:\n",
        "    bananas = np.sum([g[b] for b in p])\n",
        "    if bananas >= best_path['bananas']:\n",
        "      best_path['path'] = p\n",
        "      best_path['bananas'] = bananas\n",
        "  return best_path\n",
        "  \n",
        "def dfs(Matrix):\n",
        "  best_path = {'path': [], 'bananas': 0}\n",
        "\n",
        "  for start in range(Matrix.shape[0]):\n",
        "    for dest in range(Matrix.shape[0]):\n",
        "      current_position = (start, 0)\n",
        "      neighbors = get_neighbors(Matrix, current_position)\n",
        "      depth_limit = Matrix.shape[1] - 1\n",
        "      curr_path = findpaths(Matrix, current_position, (dest, Matrix.shape[1] - 1))\n",
        "      if curr_path['bananas'] >= best_path['bananas']:\n",
        "        best_path = curr_path\n",
        "\n",
        "  return best_path"
      ],
      "metadata": {
        "id": "dOlM6ymBCyOR",
        "outputId": "cbf91f7c-7f64-4031-9910-2b400845107a",
        "colab": {
          "base_uri": "https://localhost:8080/"
        }
      },
      "execution_count": 38,
      "outputs": [
        {
          "output_type": "stream",
          "name": "stdout",
          "text": [
            "The monkey got 12 bananas!! Look how he done it -> -> [(1, 0), (2, 1), (2, 2)]\n",
            "The monkey got 16 bananas!! Look how he done it -> -> [(2, 0), (3, 1), (2, 2), (2, 3)]\n",
            "The monkey got 83 bananas!! Look how he done it -> -> [(1, 0), (0, 1), (0, 2), (0, 3)]\n"
          ]
        }
      ]
    },
    {
      "cell_type": "code",
      "source": [
        "for m in range(examples_size):\n",
        "  monkey_path = dfs(forests[m])\n",
        "  print('The monkey got {} bananas!! Look how he done it -> -> {}'.format(monkey_path['bananas'], monkey_path['path']))"
      ],
      "metadata": {
        "id": "_Mt609YN8m5c"
      },
      "execution_count": null,
      "outputs": []
    }
  ]
}